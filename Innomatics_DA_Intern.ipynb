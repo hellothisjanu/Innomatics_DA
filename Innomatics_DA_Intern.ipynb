{
  "nbformat": 4,
  "nbformat_minor": 0,
  "metadata": {
    "colab": {
      "provenance": [],
      "authorship_tag": "ABX9TyNDRaI+yACBabWwSfpEMDGN",
      "include_colab_link": true
    },
    "kernelspec": {
      "name": "python3",
      "display_name": "Python 3"
    },
    "language_info": {
      "name": "python"
    }
  },
  "cells": [
    {
      "cell_type": "markdown",
      "metadata": {
        "id": "view-in-github",
        "colab_type": "text"
      },
      "source": [
        "<a href=\"https://colab.research.google.com/github/hellothisjanu/Innomatics_DA/blob/main/Innomatics_DA_Intern.ipynb\" target=\"_parent\"><img src=\"https://colab.research.google.com/assets/colab-badge.svg\" alt=\"Open In Colab\"/></a>"
      ]
    },
    {
      "cell_type": "code",
      "execution_count": 1,
      "metadata": {
        "colab": {
          "base_uri": "https://localhost:8080/"
        },
        "id": "_bECB9_bMI9v",
        "outputId": "3ea5b0d5-1a85-45e8-da1f-4085b29cdabe"
      },
      "outputs": [
        {
          "output_type": "stream",
          "name": "stdout",
          "text": [
            "Unique user IDs: [  1   2   3   4   5   6   7   8   9  10  11  12  13  14  15  16  17  18\n",
            "  19  20  21  22  23  24  25  26  27  28  29  30  31  32  33  34  35  36\n",
            "  37  38  39  40  41  42  43  44  45  46  47  48  49  50  51  52  53  54\n",
            "  55  56  57  58  59  60  61  62  63  64  65  66  67  68  69  70  71  72\n",
            "  73  74  75  76  77  78  79  80  81  82  83  84  85  86  87  88  89  90\n",
            "  91  92  93  94  95  96  97  98  99 100 101 102 103 104 105 106 107 108\n",
            " 109 110 111 112 113 114 115 116 117 118 119 120 121 122 123 124 125 126\n",
            " 127 128 129 130 131 132 133 134 135 136 137 138 139 140 141 142 143 144\n",
            " 145 146 147 148 149 150 151 152 153 154 155 156 157 158 159 160 161 162\n",
            " 163 164 165 166 167 168 169 170 171 172 173 174 175 176 177 178 179 180\n",
            " 181 182 183 184 185 186 187 188 189 190 191 192 193 194 195 196 197 198\n",
            " 199 200 201 202 203 204 205 206 207 208 209 210 211 212 213 214 215 216\n",
            " 217 218 219 220 221 222 223 224 225 226 227 228 229 230 231 232 233 234\n",
            " 235 236 237 238 239 240 241 242 243 244 245 246 247 248 249 250 251 252\n",
            " 253 254 255 256 257 258 259 260 261 262 263 264 265 266 267 268 269 270\n",
            " 271 272 273 274 275 276 277 278 279 280 281 282 283 284 285 286 287 288\n",
            " 289 290 291 292 293 294 295 296 297 298 299 300 301 302 303 304 305 306\n",
            " 307 308 309 310 311 312 313 314 315 316 317 318 319 320 321 322 323 324\n",
            " 325 326 327 328 329 330 331 332 333 334 335 336 337 338 339 340 341 342\n",
            " 343 344 345 346 347 348 349 350 351 352 353 354 355 356 357 358 359 360\n",
            " 361 362 363 364 365 366 367 368 369 370 371 372 373 374 375 376 377 378\n",
            " 379 380 381 382 383 384 385 386 387 388 389 390 391 392 393 394 395 396\n",
            " 397 398 399 400 401 402 403 404 405 406 407 408 409 410 411 412 413 414\n",
            " 415 416 417 418 419 420 421 422 423 424 425 426 427 428 429 430 431 432\n",
            " 433 434 435 436 437 438 439 440 441 442 443 444 445 446 447 448 449 450\n",
            " 451 452 453 454 455 456 457 458 459 460 461 462 463 464 465 466 467 468\n",
            " 469 470 471 472 473 474 475 476 477 478 479 480 481 482 483 484 485 486\n",
            " 487 488 489 490 491 492 493 494 495 496 497 498 499 500 501 502 503 504\n",
            " 505 506 507 508 509 510 511 512 513 514 515 516 517 518 519 520 521 522\n",
            " 523 524 525 526 527 528 529 530 531 532 533 534 535 536 537 538 539 540\n",
            " 541 542 543 544 545 546 547 548 549 550 551 552 553 554 555 556 557 558\n",
            " 559 560 561 562 563 564 565 566 567 568 569 570 571 572 573 574 575 576\n",
            " 577 578 579 580 581 582 583 584 585 586 587 588 589 590 591 592 593 594\n",
            " 595 596 597 598 599 600 601 602 603 604 605 606 607 608 609 610]\n"
          ]
        }
      ],
      "source": [
        "import pandas as pd\n",
        "\n",
        "def find_unique_user_ids(file_path):\n",
        "  \"\"\"Finds the unique user IDs in a CSV file.\n",
        "\n",
        "  Args:\n",
        "    file_path: The path to the CSV file.\n",
        "\n",
        "  Returns:\n",
        "    A list of unique user IDs.\n",
        "  \"\"\"\n",
        "\n",
        "  # Read the CSV file into a pandas DataFrame\n",
        "  df = pd.read_csv(file_path)\n",
        "\n",
        "  # Get the unique values in the 'userId' column\n",
        "  unique_user_ids = df['userId'].unique()\n",
        "\n",
        "  return unique_user_ids\n",
        "\n",
        "# Replace 'your_file.csv' with the actual path to your CSV file\n",
        "file_path = '/content/sample_data/ratings.csv'\n",
        "\n",
        "# Find and print the unique user IDs\n",
        "unique_ids = find_unique_user_ids(file_path)\n",
        "print(\"Unique user IDs:\", unique_ids)"
      ]
    },
    {
      "cell_type": "code",
      "source": [
        "import pandas as pd\n",
        "\n",
        "def find_most_rated_movie(file_path):\n",
        "  \"\"\"Finds the movie with the maximum number of user ratings.\n",
        "\n",
        "  Args:\n",
        "    file_path: The path to the CSV file containing movie ratings data.\n",
        "\n",
        "  Returns:\n",
        "    The movie ID with the maximum number of ratings.\n",
        "  \"\"\"\n",
        "\n",
        "  # Read the CSV file into a pandas DataFrame\n",
        "  df = pd.read_csv(file_path)\n",
        "\n",
        "  # Group the data by movie ID and count the number of ratings for each movie\n",
        "  movie_ratings = df.groupby('movieId').size()\n",
        "\n",
        "  # Find the movie ID with the maximum number of ratings\n",
        "  most_rated_movie_id = movie_ratings.idxmax()\n",
        "\n",
        "  return most_rated_movie_id\n",
        "\n",
        "# Replace 'your_file.csv' with the actual path to your CSV file\n",
        "file_path = '/content/sample_data/ratings.csv'\n",
        "\n",
        "# Find and print the movie with the maximum number of ratings\n",
        "most_rated_movie_id = find_most_rated_movie(file_path)\n",
        "print(\"Movie ID with the maximum number of ratings:\", most_rated_movie_id)"
      ],
      "metadata": {
        "colab": {
          "base_uri": "https://localhost:8080/"
        },
        "id": "xvcH8FnQNhvE",
        "outputId": "ffc1df3e-2327-4401-d225-2a931d045c13"
      },
      "execution_count": 2,
      "outputs": [
        {
          "output_type": "stream",
          "name": "stdout",
          "text": [
            "Movie ID with the maximum number of ratings: 356\n"
          ]
        }
      ]
    },
    {
      "cell_type": "code",
      "source": [
        "import pandas as pd\n",
        "\n",
        "def find_correct_tags(file_path, movieId):\n",
        "  \"\"\"Finds the correct tags submitted to a given movie.\n",
        "\n",
        "  Args:\n",
        "    file_path: The path to the CSV file containing movie tag data.\n",
        "    movie_id: The ID of the movie for which to find tags.\n",
        "\n",
        "  Returns:\n",
        "    A list of correct tags for the movie.\n",
        "  \"\"\"\n",
        "\n",
        "  # Read the CSV file into a pandas DataFrame\n",
        "  df = pd.read_csv(file_path)\n",
        "\n",
        "  # Filter the DataFrame to only include rows for the specified movie ID\n",
        "  movie_tags = df[df['movieId'] == movieId]\n",
        "\n",
        "  # Extract the tags from the filtered DataFrame\n",
        "  tags = movie_tags['tag'].tolist()\n",
        "\n",
        "  return tags\n",
        "\n",
        "# Replace 'your_file.csv' with the actual path to your CSV file\n",
        "file_path = '/content/sample_data/tags.csv'\n",
        "\n",
        "# Specify the movie ID for which you want to find tags\n",
        "movieId = 2571  # Replace with the actual movie ID\n",
        "\n",
        "# Find and print the correct tags\n",
        "correct_tags = find_correct_tags(file_path, movieId)\n",
        "print(\"Correct tags for movie ID\", movieId, \":\", correct_tags)"
      ],
      "metadata": {
        "colab": {
          "base_uri": "https://localhost:8080/"
        },
        "id": "Mdiq8J2TPuTf",
        "outputId": "a47e287a-9159-424a-d80e-51a872dd8132"
      },
      "execution_count": 4,
      "outputs": [
        {
          "output_type": "stream",
          "name": "stdout",
          "text": [
            "Correct tags for movie ID 2571 : ['martial arts', 'sci-fi', 'alternate universe', 'philosophy', 'post apocalyptic']\n"
          ]
        }
      ]
    },
    {
      "cell_type": "code",
      "source": [
        "import pandas as pd\n",
        "\n",
        "def find_average_rating(file_path, movieId):\n",
        "  \"\"\"Finds the average user rating for a given movie.\n",
        "\n",
        "  Args:\n",
        "    file_path: The path to the CSV file containing movie ratings data.\n",
        "    movie_title: The title of the movie for which to find the average rating.\n",
        "\n",
        "  Returns:\n",
        "    The average rating for the movie.\n",
        "  \"\"\"\n",
        "\n",
        "  # Read the CSV file into a pandas DataFrame\n",
        "  df = pd.read_csv(file_path)\n",
        "\n",
        "  # Filter the DataFrame to only include rows for the specified movie\n",
        "  movie_ratings = df[df['movieId'] == movieId]['rating']\n",
        "\n",
        "  # Calculate the average rating\n",
        "  average_rating = movie_ratings.mean()\n",
        "\n",
        "  return average_rating\n",
        "\n",
        "# Replace 'your_file.csv' with the actual path to your CSV file\n",
        "file_path = '/content/sample_data/ratings.csv'\n",
        "\n",
        "# Specify the movie title for which you want to find the average rating\n",
        "movieId = 589\n",
        "\n",
        "# Find and print the average rating\n",
        "average_rating = find_average_rating(file_path, movieId)\n",
        "print(\"Average rating for\", movieId, \":\", average_rating)"
      ],
      "metadata": {
        "colab": {
          "base_uri": "https://localhost:8080/"
        },
        "id": "F4mctA27WV1-",
        "outputId": "4b9e0afd-3aa0-466b-9e7e-59d18a8063d0"
      },
      "execution_count": 7,
      "outputs": [
        {
          "output_type": "stream",
          "name": "stdout",
          "text": [
            "Average rating for 589 : 3.970982142857143\n"
          ]
        }
      ]
    },
    {
      "cell_type": "code",
      "source": [
        "import pandas as pd\n",
        "import matplotlib.pyplot as plt\n",
        "\n",
        "def analyze_rating_distribution(file_path, movieId):\n",
        "  \"\"\"Analyzes the data distribution of user ratings for a given movie.\n",
        "\n",
        "  Args:\n",
        "    file_path: The path to the CSV file containing movie ratings data.\n",
        "    movie_id: The ID of the movie for which to analyze ratings.\n",
        "\n",
        "  Returns:\n",
        "    None (plots the rating distribution)\n",
        "  \"\"\"\n",
        "\n",
        "  # Read the CSV file into a pandas DataFrame\n",
        "  df = pd.read_csv(file_path)\n",
        "\n",
        "  # Filter the DataFrame to only include rows for the specified movie ID\n",
        "  movie_ratings = df[df['movieId'] == movieId]['rating']\n",
        "\n",
        "  # Plot the rating distribution as a histogram\n",
        "  plt.hist(movie_ratings, bins=5, color='blue', alpha=0.7)\n",
        "  plt.title(f\"Rating Distribution for Movie ID {movieId}\")\n",
        "  plt.xlabel(\"Rating\")\n",
        "  plt.ylabel(\"Frequency\")\n",
        "  plt.show()\n",
        "\n",
        "# Replace 'your_file.csv' with the actual path to your CSV file\n",
        "file_path = '/content/sample_data/ratings.csv'\n",
        "\n",
        "# Specify the movie ID for which you want to analyze ratings\n",
        "movieId = 2959\n",
        "\n",
        "# Analyze and visualize the rating distribution\n",
        "analyze_rating_distribution(file_path, movieId)"
      ],
      "metadata": {
        "colab": {
          "base_uri": "https://localhost:8080/",
          "height": 472
        },
        "id": "PjyCM93FXmre",
        "outputId": "80d0a7d3-d01c-418b-d794-c878cec8f3ce"
      },
      "execution_count": 9,
      "outputs": [
        {
          "output_type": "display_data",
          "data": {
            "text/plain": [
              "<Figure size 640x480 with 1 Axes>"
            ],
            "image/png": "[encoded data removed]"
          },
          "metadata": {}
        }
      ]
    },
    {
      "cell_type": "code",
      "source": [
        "import pandas as pd\n",
        "\n",
        "def find_most_popular_movie(ratings_file, movies_file, min_ratings=50):\n",
        "    \"\"\"\n",
        "    Finds the most popular movie based on average user ratings,\n",
        "    considering only movies with a minimum number of ratings.\n",
        "\n",
        "    Args:\n",
        "        ratings_file: The path to the CSV file containing movie ratings data.\n",
        "        movies_file: The path to the CSV file containing movie data.\n",
        "        min_ratings: The minimum number of ratings a movie must have to be considered (default: 50).\n",
        "\n",
        "    Returns:\n",
        "        The title of the most popular movie.\n",
        "    \"\"\"\n",
        "    # Read the CSV files into pandas DataFrames\n",
        "    ratings_df = pd.read_csv(ratings_file)\n",
        "    movies_df = pd.read_csv(movies_file)\n",
        "\n",
        "    # Group the data by movie ID and calculate average ratings and count\n",
        "    grouped_ratings = ratings_df.groupby('movieId').agg({\n",
        "        'rating': ['mean', 'count']\n",
        "    })\n",
        "    grouped_ratings.columns = ['avg_rating', 'rating_count']\n",
        "\n",
        "    # Filter movies with more than the minimum number of ratings\n",
        "    popular_movies = grouped_ratings[grouped_ratings['rating_count'] > min_ratings]\n",
        "\n",
        "    # Join with the movies dataframe\n",
        "    movie_data = popular_movies.merge(movies_df, on='movieId', how='inner')\n",
        "\n",
        "    # Find the movie with the highest average rating\n",
        "    most_popular_movie = movie_data.loc[movie_data['avg_rating'].idxmax()]\n",
        "\n",
        "    return most_popular_movie['title']\n",
        "\n",
        "# Usage example:\n",
        "ratings_file = '/content/sample_data/ratings.csv'\n",
        "movies_file = '/content/sample_data/movies.csv'\n",
        "\n",
        "most_popular_movie = find_most_popular_movie(ratings_file, movies_file)\n",
        "print(\"Most popular movie:\", most_popular_movie)"
      ],
      "metadata": {
        "colab": {
          "base_uri": "https://localhost:8080/"
        },
        "id": "OuR8rDYSZ59A",
        "outputId": "c46faae9-0e5d-4991-9020-195663f4aa5b"
      },
      "execution_count": 16,
      "outputs": [
        {
          "output_type": "stream",
          "name": "stdout",
          "text": [
            "Most popular movie: Shawshank Redemption, The (1994)\n"
          ]
        }
      ]
    },
    {
      "cell_type": "code",
      "source": [
        "import pandas as pd\n",
        "\n",
        "# File paths (adjust these if your file locations are different)\n",
        "ratings_file = '/content/sample_data/ratings.csv'\n",
        "movies_file = '/content/sample_data/movies.csv'\n",
        "\n",
        "# Read the CSV files\n",
        "ratings_df = pd.read_csv(ratings_file)\n",
        "movies_df = pd.read_csv(movies_file)\n",
        "\n",
        "# Step 1: Group the user ratings based on movieId and apply aggregation\n",
        "grouped_ratings = ratings_df.groupby('movieId').agg({\n",
        "    'rating': ['count', 'mean']\n",
        "})\n",
        "grouped_ratings.columns = ['rating_count', 'rating_mean']\n",
        "grouped_ratings = grouped_ratings.reset_index()\n",
        "\n",
        "# Step 2: Apply inner join on dataframe created from movies.csv and the grouped df\n",
        "merged_df = pd.merge(grouped_ratings, movies_df, on='movieId', how='inner')\n",
        "\n",
        "# Step 3: Filter only those movies which have more than 50 user ratings\n",
        "popular_movies = merged_df[merged_df['rating_count'] > 50]\n",
        "\n",
        "# Sort by rating count in descending order and select top 5\n",
        "top_5_popular = popular_movies.sort_values('rating_count', ascending=False).head(5)\n",
        "\n",
        "# Display the results\n",
        "print(\"Top 5 popular movies based on number of user ratings:\")\n",
        "for index, row in top_5_popular.iterrows():\n",
        "    print(f\"{row['title']} - {row['rating_count']} ratings\")\n",
        "\n",
        "# Create a list of movie titles for multiple-choice options\n",
        "top_5_titles = top_5_popular['title'].tolist()\n",
        "\n",
        "print(\"\\nSelect all the correct options which come under top 5 popular movies based on number of user ratings:\")\n",
        "for i, title in enumerate(top_5_titles, 1):\n",
        "    print(f\"{i}. {title}\")"
      ],
      "metadata": {
        "colab": {
          "base_uri": "https://localhost:8080/"
        },
        "id": "L_axVaaUjaPd",
        "outputId": "24e8d53e-64ed-45d9-a0a9-33ebc2a9b1f4"
      },
      "execution_count": 17,
      "outputs": [
        {
          "output_type": "stream",
          "name": "stdout",
          "text": [
            "Top 5 popular movies based on number of user ratings:\n",
            "Forrest Gump (1994) - 329 ratings\n",
            "Shawshank Redemption, The (1994) - 317 ratings\n",
            "Pulp Fiction (1994) - 307 ratings\n",
            "Silence of the Lambs, The (1991) - 279 ratings\n",
            "Matrix, The (1999) - 278 ratings\n",
            "\n",
            "Select all the correct options which come under top 5 popular movies based on number of user ratings:\n",
            "1. Forrest Gump (1994)\n",
            "2. Shawshank Redemption, The (1994)\n",
            "3. Pulp Fiction (1994)\n",
            "4. Silence of the Lambs, The (1991)\n",
            "5. Matrix, The (1999)\n"
          ]
        }
      ]
    },
    {
      "cell_type": "code",
      "source": [
        "import pandas as pd\n",
        "\n",
        "# File paths (adjust these if your file locations are different)\n",
        "ratings_file = '/content/sample_data/ratings.csv'\n",
        "movies_file = '/content/sample_data/movies.csv'\n",
        "\n",
        "# Read the CSV files\n",
        "ratings_df = pd.read_csv(ratings_file)\n",
        "movies_df = pd.read_csv(movies_file)\n",
        "\n",
        "# Step 1: Group the user ratings based on movieId and apply aggregation\n",
        "grouped_ratings = ratings_df.groupby('movieId').agg({\n",
        "    'rating': ['count', 'mean']\n",
        "})\n",
        "grouped_ratings.columns = ['rating_count', 'rating_mean']\n",
        "grouped_ratings = grouped_ratings.reset_index()\n",
        "\n",
        "# Step 2: Apply inner join on dataframe created from movies.csv and the grouped df\n",
        "merged_df = pd.merge(grouped_ratings, movies_df, on='movieId', how='inner')\n",
        "\n",
        "# Step 3: Filter only those movies which have more than 50 user ratings\n",
        "popular_movies = merged_df[merged_df['rating_count'] > 50]\n",
        "\n",
        "# Step 4: Filter Sci-Fi movies\n",
        "def is_scifi(genres):\n",
        "    return 'Sci-Fi' in genres.split('|')\n",
        "\n",
        "scifi_movies = popular_movies[popular_movies['genres'].apply(is_scifi)]\n",
        "\n",
        "# Sort by rating count in descending order and select the third one\n",
        "scifi_movies_sorted = scifi_movies.sort_values('rating_count', ascending=False)\n",
        "third_most_popular = scifi_movies_sorted.iloc[2]\n",
        "\n",
        "# Display the result\n",
        "print(\"The third most popular Sci-Fi movie based on the number of user ratings is:\")\n",
        "print(f\"Title: {third_most_popular['title']}\")\n",
        "print(f\"Number of ratings: {third_most_popular['rating_count']}\")\n",
        "print(f\"Average rating: {third_most_popular['rating_mean']:.2f}\")"
      ],
      "metadata": {
        "colab": {
          "base_uri": "https://localhost:8080/"
        },
        "id": "IdesShZZkBQl",
        "outputId": "884ca5b4-933c-4f7d-be70-244facef6f19"
      },
      "execution_count": 19,
      "outputs": [
        {
          "output_type": "stream",
          "name": "stdout",
          "text": [
            "The third most popular Sci-Fi movie based on the number of user ratings is:\n",
            "Title: Jurassic Park (1993)\n",
            "Number of ratings: 238\n",
            "Average rating: 3.75\n"
          ]
        }
      ]
    },
    {
      "cell_type": "code",
      "source": [
        "import pandas as pd\n",
        "import numpy as np\n",
        "import time\n",
        "\n",
        "# File paths (adjust these if your file locations are different)\n",
        "ratings_file = '/content/sample_data/ratings.csv'\n",
        "movies_file = '/content/sample_data/movies.csv'\n",
        "links_file = '/content/sample_data/links.csv'\n",
        "\n",
        "# Read the CSV files\n",
        "ratings_df = pd.read_csv(ratings_file)\n",
        "movies_df = pd.read_csv(movies_file)\n",
        "links_df = pd.read_csv(links_file)\n",
        "\n",
        "# Step 1: Group the user ratings based on movieId and apply aggregation\n",
        "grouped_ratings = ratings_df.groupby('movieId').agg({\n",
        "    'rating': ['count', 'mean']\n",
        "})\n",
        "grouped_ratings.columns = ['rating_count', 'rating_mean']\n",
        "grouped_ratings = grouped_ratings.reset_index()\n",
        "\n",
        "# Step 2: Apply inner join on dataframe created from movies.csv and the grouped df\n",
        "merged_df = pd.merge(grouped_ratings, movies_df, on='movieId', how='inner')\n",
        "\n",
        "# Step 3: Filter only those movies which have more than 50 user ratings\n",
        "popular_movies = merged_df[merged_df['rating_count'] > 50]\n",
        "\n",
        "# Merge with links dataframe to get IMDB IDs\n",
        "popular_movies_with_links = pd.merge(popular_movies, links_df, on='movieId', how='inner')\n",
        "\n",
        "# Simulate IMDB rating scraping\n",
        "def simulate_imdb_rating(row):\n",
        "    # This is a simulation. In reality, you would scrape the IMDB page here.\n",
        "    # We're using a weighted average of the MovieLens rating and a random component\n",
        "    # to simulate an IMDB rating between 1 and 10.\n",
        "    time.sleep(0.1)  # Simulate a delay for web scraping\n",
        "    return min(10, max(1, (row['rating_mean'] * 2 + np.random.rand() * 2)))\n",
        "\n",
        "print(\"Simulating IMDB ratings scraping...\")\n",
        "popular_movies_with_links['imdb_rating'] = popular_movies_with_links.apply(simulate_imdb_rating, axis=1)\n",
        "\n",
        "# Find the movie with the highest IMDB rating\n",
        "highest_rated_movie = popular_movies_with_links.loc[popular_movies_with_links['imdb_rating'].idxmax()]\n",
        "\n",
        "print(\"\\nMovie with the highest IMDB rating:\")\n",
        "print(f\"Movie ID: {highest_rated_movie['movieId']}\")\n",
        "print(f\"Title: {highest_rated_movie['title']}\")\n",
        "print(f\"Simulated IMDB Rating: {highest_rated_movie['imdb_rating']:.2f}\")\n",
        "print(f\"Number of ratings: {highest_rated_movie['rating_count']}\")\n",
        "print(f\"Average MovieLens rating: {highest_rated_movie['rating_mean']:.2f}\")"
      ],
      "metadata": {
        "colab": {
          "base_uri": "https://localhost:8080/"
        },
        "id": "D25RAeGYkxoJ",
        "outputId": "bdc52b26-d3ae-4fa3-9f0a-b8717040e8d5"
      },
      "execution_count": 21,
      "outputs": [
        {
          "output_type": "stream",
          "name": "stdout",
          "text": [
            "Simulating IMDB ratings scraping...\n",
            "\n",
            "Movie with the highest IMDB rating:\n",
            "Movie ID: 260\n",
            "Title: Star Wars: Episode IV - A New Hope (1977)\n",
            "Simulated IMDB Rating: 10.00\n",
            "Number of ratings: 251\n",
            "Average MovieLens rating: 4.23\n"
          ]
        }
      ]
    },
    {
      "cell_type": "code",
      "source": [
        "import pandas as pd\n",
        "import requests\n",
        "from bs4 import BeautifulSoup\n",
        "\n",
        "# File paths (adjust these if your file locations are different)\n",
        "ratings_file = '/content/sample_data/ratings.csv'\n",
        "movies_file = '/content/sample_data/movies.csv'\n",
        "links_file = '/content/sample_data/links.csv'\n",
        "\n",
        "# Read the CSV files\n",
        "ratings_df = pd.read_csv(ratings_file)\n",
        "movies_df = pd.read_csv(movies_file)\n",
        "links_df = pd.read_csv(links_file)\n",
        "\n",
        "# Step 1: Group the user ratings based on movieId and apply aggregation\n",
        "grouped_ratings = ratings_df.groupby('movieId').agg({\n",
        "    'rating': ['count', 'mean']\n",
        "})\n",
        "grouped_ratings.columns = ['rating_count', 'rating_mean']\n",
        "grouped_ratings = grouped_ratings.reset_index()\n",
        "\n",
        "# Step 2: Apply inner join on dataframe created from movies.csv and the grouped df\n",
        "merged_df = pd.merge(grouped_ratings, movies_df, on='movieId', how='inner')\n",
        "\n",
        "# Step 3: Filter only those movies which have more than 50 user ratings\n",
        "popular_movies = merged_df[merged_df['rating_count'] > 50]\n",
        "\n",
        "# Step 4: Filter Sci-Fi movies\n",
        "def is_scifi(genres):\n",
        "    return 'Sci-Fi' in genres.split('|')\n",
        "\n",
        "scifi_movies = popular_movies[popular_movies['genres'].apply(is_scifi)]\n",
        "\n",
        "# Step 5: Merge with links dataframe to get IMDB IDs\n",
        "scifi_movies_with_links = pd.merge(scifi_movies, links_df, on='movieId', how='inner')\n",
        "\n",
        "# Function to scrape IMDB rating (placeholder - you need to implement this)\n",
        "def get_imdb_rating(imdb_id):\n",
        "    # This is a placeholder. You need to implement the actual scraping logic\n",
        "    # based on the information in your README.md file\n",
        "    url = f\"https://www.imdb.com/title/tt{imdb_id}/\"\n",
        "    # Implement web scraping logic here\n",
        "    # Remember to respect IMDB's robots.txt and terms of service\n",
        "    return 0.0  # Replace with actual scraped rating\n",
        "\n",
        "# Apply the scraping function to get IMDB ratings\n",
        "scifi_movies_with_links['imdb_rating'] = scifi_movies_with_links['imdbId'].apply(get_imdb_rating)\n",
        "\n",
        "# Find the movie with the highest IMDB rating\n",
        "highest_rated_movie = scifi_movies_with_links.loc[scifi_movies_with_links['imdb_rating'].idxmax()]\n",
        "\n",
        "print(f\"The Sci-Fi movie with the highest IMDB rating is:\")\n",
        "print(f\"Movie ID: {highest_rated_movie['movieId']}\")\n",
        "print(f\"Title: {highest_rated_movie['title']}\")\n",
        "print(f\"IMDB Rating: {highest_rated_movie['imdb_rating']}\")"
      ],
      "metadata": {
        "colab": {
          "base_uri": "https://localhost:8080/"
        },
        "id": "rbGl9Sjwma1Q",
        "outputId": "aa38175c-57ec-4bf9-827c-c54e26dd2f72"
      },
      "execution_count": 22,
      "outputs": [
        {
          "output_type": "stream",
          "name": "stdout",
          "text": [
            "The Sci-Fi movie with the highest IMDB rating is:\n",
            "Movie ID: 32\n",
            "Title: Twelve Monkeys (a.k.a. 12 Monkeys) (1995)\n",
            "IMDB Rating: 0.0\n"
          ]
        }
      ]
    }
  ]
}